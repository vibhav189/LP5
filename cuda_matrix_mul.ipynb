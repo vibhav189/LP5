{
  "nbformat": 4,
  "nbformat_minor": 0,
  "metadata": {
    "colab": {
      "provenance": [],
      "gpuType": "T4"
    },
    "kernelspec": {
      "name": "python3",
      "display_name": "Python 3"
    },
    "language_info": {
      "name": "python"
    },
    "accelerator": "GPU"
  },
  "cells": [
    {
      "cell_type": "code",
      "execution_count": 1,
      "metadata": {
        "colab": {
          "base_uri": "https://localhost:8080/"
        },
        "id": "5FafO4VDkeXH",
        "outputId": "fde51b8b-7915-45a6-e439-3f93487e8f92"
      },
      "outputs": [
        {
          "output_type": "stream",
          "name": "stdout",
          "text": [
            "Looking in indexes: https://pypi.org/simple, https://us-python.pkg.dev/colab-wheels/public/simple/\n",
            "Collecting git+https://github.com/andreinechaev/nvcc4jupyter.git\n",
            "  Cloning https://github.com/andreinechaev/nvcc4jupyter.git to /tmp/pip-req-build-kgr9wovk\n",
            "  Running command git clone --filter=blob:none --quiet https://github.com/andreinechaev/nvcc4jupyter.git /tmp/pip-req-build-kgr9wovk\n",
            "  Resolved https://github.com/andreinechaev/nvcc4jupyter.git to commit aac710a35f52bb78ab34d2e52517237941399eff\n",
            "  Preparing metadata (setup.py) ... \u001b[?25l\u001b[?25hdone\n",
            "Building wheels for collected packages: NVCCPlugin\n",
            "  Building wheel for NVCCPlugin (setup.py) ... \u001b[?25l\u001b[?25hdone\n",
            "  Created wheel for NVCCPlugin: filename=NVCCPlugin-0.0.2-py3-none-any.whl size=4287 sha256=fc9fa03d8b7b71efcc2e9919c44aef16c396bcd8bdc7dd324c1b5fa70351ffe7\n",
            "  Stored in directory: /tmp/pip-ephem-wheel-cache-_uv60o1f/wheels/a8/b9/18/23f8ef71ceb0f63297dd1903aedd067e6243a68ea756d6feea\n",
            "Successfully built NVCCPlugin\n",
            "Installing collected packages: NVCCPlugin\n",
            "Successfully installed NVCCPlugin-0.0.2\n"
          ]
        }
      ],
      "source": [
        "!pip install git+https://github.com/andreinechaev/nvcc4jupyter.git"
      ]
    },
    {
      "cell_type": "code",
      "source": [
        "%load_ext nvcc_plugin"
      ],
      "metadata": {
        "colab": {
          "base_uri": "https://localhost:8080/"
        },
        "id": "lafDqAE0kot3",
        "outputId": "c4f9194d-fb8d-4127-8826-f1009c7b0d25"
      },
      "execution_count": 2,
      "outputs": [
        {
          "output_type": "stream",
          "name": "stdout",
          "text": [
            "created output directory at /content/src\n",
            "Out bin /content/result.out\n"
          ]
        }
      ]
    },
    {
      "cell_type": "code",
      "source": [
        "%%cu\n",
        "#include <stdio.h>\n",
        "\n",
        "#define N 1024 // Matrix size (N x N)\n",
        "\n",
        "// CUDA kernel for matrix multiplication\n",
        "__global__ void matrixMul(int *a, int *b, int *c) {\n",
        "    int row = blockIdx.y * blockDim.y + threadIdx.y;\n",
        "    int col = blockIdx.x * blockDim.x + threadIdx.x;\n",
        "\n",
        "    int sum = 0;\n",
        "    for (int i = 0; i < N; i++) {\n",
        "        sum += a[row * N + i] * b[i * N + col];\n",
        "    }\n",
        "\n",
        "    c[row * N + col] = sum;\n",
        "}\n",
        "\n",
        "int main() {\n",
        "    int *a, *b, *c;           // Host matrices\n",
        "    int *d_a, *d_b, *d_c;     // Device matrices\n",
        "\n",
        "    // Allocate memory for host matrices\n",
        "    a = (int*)malloc(N * N * sizeof(int));\n",
        "    b = (int*)malloc(N * N * sizeof(int));\n",
        "    c = (int*)malloc(N * N * sizeof(int));\n",
        "\n",
        "    // Initialize host matrices\n",
        "    for (int i = 0; i < N * N; i++) {\n",
        "        a[i] = i;\n",
        "        b[i] = i;\n",
        "    }\n",
        "\n",
        "    // Allocate memory for device matrices\n",
        "    cudaMalloc((void**)&d_a, N * N * sizeof(int));\n",
        "    cudaMalloc((void**)&d_b, N * N * sizeof(int));\n",
        "    cudaMalloc((void**)&d_c, N * N * sizeof(int));\n",
        "\n",
        "    // Copy host matrices to device\n",
        "    cudaMemcpy(d_a, a, N * N * sizeof(int), cudaMemcpyHostToDevice);\n",
        "    cudaMemcpy(d_b, b, N * N * sizeof(int), cudaMemcpyHostToDevice);\n",
        "\n",
        "    // Set grid and block dimensions\n",
        "    dim3 dimBlock(16, 16);\n",
        "    dim3 dimGrid(N / dimBlock.x, N / dimBlock.y);\n",
        "\n",
        "    // Launch the matrix multiplication kernel\n",
        "    matrixMul<<<dimGrid, dimBlock>>>(d_a, d_b, d_c);\n",
        "\n",
        "    // Copy result from device to host\n",
        "    cudaMemcpy(c, d_c, N * N * sizeof(int), cudaMemcpyDeviceToHost);\n",
        "\n",
        "    // Print a few elements of the result matrix\n",
        "    for (int i = 0; i < 10; i++) {\n",
        "        for (int j = 0; j < 10; j++) {\n",
        "            printf(\"%d\\t\", c[i * N + j]);\n",
        "        }\n",
        "        printf(\"\\n\");\n",
        "    }\n",
        "\n",
        "    // Free device memory\n",
        "    cudaFree(d_a);\n",
        "    cudaFree(d_b);\n",
        "    cudaFree(d_c);\n",
        "\n",
        "    // Free host memory\n",
        "    free(a);\n",
        "    free(b);\n",
        "    free(c);\n",
        "\n",
        "    return 0;\n",
        "}\n"
      ],
      "metadata": {
        "colab": {
          "base_uri": "https://localhost:8080/"
        },
        "id": "sOfQ6L9Mkt5k",
        "outputId": "05c4dbac-cd91-467f-a4b5-9daabd928538"
      },
      "execution_count": 5,
      "outputs": [
        {
          "output_type": "stream",
          "name": "stdout",
          "text": [
            "894959616\t895483392\t896007168\t896530944\t897054720\t897578496\t898102272\t898626048\t899149824\t899673600\t\n",
            "358088704\t359661056\t361233408\t362805760\t364378112\t365950464\t367522816\t369095168\t370667520\t372239872\t\n",
            "-178782208\t-176161280\t-173540352\t-170919424\t-168298496\t-165677568\t-163056640\t-160435712\t-157814784\t-155193856\t\n",
            "-715653120\t-711983616\t-708314112\t-704644608\t-700975104\t-697305600\t-693636096\t-689966592\t-686297088\t-682627584\t\n",
            "-1252524032\t-1247805952\t-1243087872\t-1238369792\t-1233651712\t-1228933632\t-1224215552\t-1219497472\t-1214779392\t-1210061312\t\n",
            "-1789394944\t-1783628288\t-1777861632\t-1772094976\t-1766328320\t-1760561664\t-1754795008\t-1749028352\t-1743261696\t-1737495040\t\n",
            "1968701440\t1975516672\t1982331904\t1989147136\t1995962368\t2002777600\t2009592832\t2016408064\t2023223296\t2030038528\t\n",
            "1431830528\t1439694336\t1447558144\t1455421952\t1463285760\t1471149568\t1479013376\t1486877184\t1494740992\t1502604800\t\n",
            "894959616\t903872000\t912784384\t921696768\t930609152\t939521536\t948433920\t957346304\t966258688\t975171072\t\n",
            "358088704\t368049664\t378010624\t387971584\t397932544\t407893504\t417854464\t427815424\t437776384\t447737344\t\n",
            "\n"
          ]
        }
      ]
    }
  ]
}